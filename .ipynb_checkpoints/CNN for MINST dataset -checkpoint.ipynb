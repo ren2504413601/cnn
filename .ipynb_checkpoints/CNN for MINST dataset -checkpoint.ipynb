{
 "cells": [
  {
   "cell_type": "code",
   "execution_count": 15,
   "metadata": {},
   "outputs": [],
   "source": [
    "import pandas as pd\n",
    "import numpy as np\n",
    "\n",
    "from sklearn.model_selection import train_test_split, GridSearchCV, cross_val_score\n",
    "from sklearn.metrics import classification_report\n",
    "import itertools\n",
    "\n",
    "from keras.datasets import mnist\n",
    "from keras.utils.np_utils import to_categorical # convert to one-hot-encoding\n",
    "from keras.models import Sequential\n",
    "from keras.layers import Dense, Dropout, Flatten, Conv2D, MaxPool2D\n",
    "from keras.optimizers import RMSprop, SGD, Adam,TFOptimizer\n",
    "from keras.preprocessing.image import ImageDataGenerator\n",
    "from keras.callbacks import ReduceLROnPlateau\n",
    "from keras.wrappers.scikit_learn import KerasClassifier"
   ]
  },
  {
   "cell_type": "markdown",
   "metadata": {},
   "source": [
    "## Load mnist data"
   ]
  },
  {
   "cell_type": "code",
   "execution_count": 16,
   "metadata": {},
   "outputs": [],
   "source": [
    "train = pd.read_csv(\"./CNN for MINST dataset/train.csv\")\n",
    "test = pd.read_csv(\"./CNN for MINST dataset/test.csv\")\n",
    "target=train['label']\n",
    "features=train.drop(labels='label',axis=1)#pd.drop():Return new object with labels in requested axis removed.\n",
    "#print(target.shape,features.shape)\n",
    "## normalize\n",
    "features=features.astype('float32')\n",
    "test=test.astype('float32')\n",
    "features/=255.0\n",
    "test/=255.0\n",
    "## Reshape image in 3 dimensions (height = 28, width = 28 , channel = 1)\n",
    "height,width ,channel= 28,28,1\n",
    "features=features.values.reshape(-1,height,width,channel)\n",
    "test=test.values.reshape(-1,height,width,channel)\n",
    "\n",
    "## Encode labels to one hot vectors\n",
    "target=to_categorical(target,num_classes=10)\n",
    "\n",
    "## Split the train and the validation set for the fitting\n",
    "X_train, X_val, Y_train, Y_val = train_test_split(features, target, test_size = 0.1)"
   ]
  },
  {
   "cell_type": "markdown",
   "metadata": {},
   "source": [
    "## CNN model"
   ]
  },
  {
   "cell_type": "code",
   "execution_count": 3,
   "metadata": {},
   "outputs": [
    {
     "name": "stdout",
     "output_type": "stream",
     "text": [
      "Epoch 1/30\n",
      " - 1350s - loss: 0.3140 - acc: 0.8986 - val_loss: 0.0576 - val_acc: 0.9833\n",
      "Epoch 2/30\n",
      " - 1368s - loss: 0.1023 - acc: 0.9686 - val_loss: 0.0394 - val_acc: 0.9869\n",
      "Epoch 3/30\n",
      " - 1380s - loss: 0.0793 - acc: 0.9762 - val_loss: 0.0295 - val_acc: 0.9910\n",
      "Epoch 4/30\n",
      " - 1390s - loss: 0.0644 - acc: 0.9810 - val_loss: 0.0261 - val_acc: 0.9914\n",
      "Epoch 5/30\n",
      " - 1406s - loss: 0.0566 - acc: 0.9833 - val_loss: 0.0274 - val_acc: 0.9914\n",
      "Epoch 6/30\n",
      " - 1515s - loss: 0.0537 - acc: 0.9833 - val_loss: 0.0237 - val_acc: 0.9936\n",
      "Epoch 7/30\n",
      " - 1426s - loss: 0.0499 - acc: 0.9837 - val_loss: 0.0261 - val_acc: 0.9933\n",
      "Epoch 8/30\n",
      " - 1314s - loss: 0.0467 - acc: 0.9865 - val_loss: 0.0247 - val_acc: 0.9929\n",
      "Epoch 9/30\n",
      " - 1317s - loss: 0.0407 - acc: 0.9883 - val_loss: 0.0281 - val_acc: 0.9912\n",
      "Epoch 10/30\n",
      " - 1315s - loss: 0.0419 - acc: 0.9881 - val_loss: 0.0234 - val_acc: 0.9938\n",
      "Epoch 11/30\n",
      " - 1310s - loss: 0.0418 - acc: 0.9879 - val_loss: 0.0329 - val_acc: 0.9912\n",
      "Epoch 12/30\n",
      " - 1306s - loss: 0.0383 - acc: 0.9880 - val_loss: 0.0230 - val_acc: 0.9933\n",
      "Epoch 13/30\n",
      " - 1327s - loss: 0.0371 - acc: 0.9894 - val_loss: 0.0282 - val_acc: 0.9912\n",
      "Epoch 14/30\n",
      " - 1611s - loss: 0.0369 - acc: 0.9893 - val_loss: 0.0232 - val_acc: 0.9933\n",
      "Epoch 15/30\n",
      " - 1364s - loss: 0.0359 - acc: 0.9892 - val_loss: 0.0277 - val_acc: 0.9917\n",
      "\n",
      "Epoch 00015: ReduceLROnPlateau reducing learning rate to 0.0005000000237487257.\n",
      "Epoch 16/30\n",
      " - 1481s - loss: 0.0229 - acc: 0.9929 - val_loss: 0.0203 - val_acc: 0.9950\n",
      "Epoch 17/30\n",
      " - 1570s - loss: 0.0215 - acc: 0.9933 - val_loss: 0.0201 - val_acc: 0.9952\n",
      "Epoch 18/30\n",
      " - 1405s - loss: 0.0217 - acc: 0.9938 - val_loss: 0.0211 - val_acc: 0.9950\n",
      "Epoch 19/30\n",
      " - 1341s - loss: 0.0206 - acc: 0.9941 - val_loss: 0.0198 - val_acc: 0.9943\n",
      "Epoch 20/30\n",
      " - 1309s - loss: 0.0178 - acc: 0.9946 - val_loss: 0.0211 - val_acc: 0.9945\n",
      "Epoch 21/30\n",
      " - 1314s - loss: 0.0180 - acc: 0.9945 - val_loss: 0.0210 - val_acc: 0.9940\n",
      "Epoch 22/30\n",
      " - 1332s - loss: 0.0200 - acc: 0.9940 - val_loss: 0.0195 - val_acc: 0.9955\n",
      "Epoch 23/30\n",
      " - 1310s - loss: 0.0199 - acc: 0.9936 - val_loss: 0.0250 - val_acc: 0.9943\n",
      "Epoch 24/30\n",
      " - 1314s - loss: 0.0185 - acc: 0.9948 - val_loss: 0.0207 - val_acc: 0.9945\n",
      "Epoch 25/30\n",
      " - 1308s - loss: 0.0157 - acc: 0.9952 - val_loss: 0.0212 - val_acc: 0.9945\n",
      "Epoch 26/30\n",
      " - 1311s - loss: 0.0178 - acc: 0.9949 - val_loss: 0.0169 - val_acc: 0.9957\n",
      "Epoch 27/30\n",
      " - 1315s - loss: 0.0163 - acc: 0.9950 - val_loss: 0.0211 - val_acc: 0.9933\n",
      "Epoch 28/30\n",
      " - 1313s - loss: 0.0159 - acc: 0.9946 - val_loss: 0.0229 - val_acc: 0.9943\n",
      "Epoch 29/30\n",
      " - 1318s - loss: 0.0166 - acc: 0.9953 - val_loss: 0.0228 - val_acc: 0.9943\n",
      "Epoch 30/30\n",
      " - 1312s - loss: 0.0172 - acc: 0.9945 - val_loss: 0.0179 - val_acc: 0.9948\n"
     ]
    },
    {
     "data": {
      "text/plain": [
       "<keras.callbacks.History at 0x1fd0470cd30>"
      ]
     },
     "execution_count": 3,
     "metadata": {},
     "output_type": "execute_result"
    }
   ],
   "source": [
    "clf=Sequential()\n",
    "\n",
    "clf.add(Conv2D(filters = 64, kernel_size = (5,5),padding = 'Same', \n",
    "                     activation ='relu', input_shape = (28,28,1)))\n",
    "clf.add(Conv2D(filters = 64, kernel_size = (5,5),padding = 'Same', \n",
    "                     activation ='relu'))\n",
    "clf.add(MaxPool2D(pool_size=(2,2)))\n",
    "clf.add(Dropout(0.25))\n",
    "\n",
    "clf.add(Conv2D(filters = 128, kernel_size = (3,3),padding = 'Same', \n",
    "                     activation ='relu'))\n",
    "clf.add(Conv2D(filters = 128, kernel_size = (3,3),padding = 'Same', \n",
    "                     activation ='relu'))\n",
    "clf.add(MaxPool2D(pool_size=(2,2), strides=(2,2)))\n",
    "clf.add(Dropout(0.3))\n",
    "\n",
    "clf.add(Flatten())#Flatten():将输入展平。不影响批量大小\n",
    "clf.add(Dense(512, activation = \"relu\", use_bias= True))\n",
    "clf.add(Dropout(0.5))\n",
    "clf.add(Dense(10, activation = \"softmax\"))\n",
    "\n",
    "clf.compile(optimizer = 'adam' , loss = \"categorical_crossentropy\", metrics=[\"accuracy\"])\n",
    "\n",
    "# Set a learning rate annealer\n",
    "learning_rate_reduction = ReduceLROnPlateau(monitor='val_acc', \n",
    "                                            patience=5, \n",
    "                                            verbose=1, \n",
    "                                            factor=0.5, \n",
    "                                            min_lr=0.00001)#ReduceLROnPlateau()当标准评估停止提升时，降低学习速率\n",
    "\n",
    "# Data augmentation to prevent overfitting\n",
    "\n",
    "datagen = ImageDataGenerator(\n",
    "        rotation_range=10,  \n",
    "        zoom_range = 0.1, \n",
    "        width_shift_range=0.1,  \n",
    "        height_shift_range=0.1,  \n",
    "        horizontal_flip=False,  # randomly flip images\n",
    "        vertical_flip=False)  # randomly flip images\n",
    "datagen.fit(X_train)\n",
    "\n",
    "# Fit the model\n",
    "clf.fit_generator(datagen.flow(X_train,Y_train, batch_size= 82),\n",
    "                              epochs = 30, validation_data = (X_val,Y_val),\n",
    "                              verbose = 2, steps_per_epoch=X_train.shape[0] // 82\n",
    "                              , callbacks=[learning_rate_reduction])"
   ]
  },
  {
   "cell_type": "code",
   "execution_count": 4,
   "metadata": {},
   "outputs": [],
   "source": [
    "# predict results\n",
    "results = clf.predict(test)\n",
    "\n",
    "# select the indix with the maximum probability\n",
    "results = np.argmax(results,axis = 1)\n",
    "\n",
    "results = pd.Series(results,name=\"Label\")\n",
    "\n",
    "submission = pd.concat([pd.Series(range(1,28001),name = \"ImageId\"),results],axis = 1)\n",
    "\n",
    "submission.to_csv(\"./CNN for MINST dataset/cnnmodel.csv\",index=False)"
   ]
  }
 ],
 "metadata": {
  "kernelspec": {
   "display_name": "Python [conda env:.conda-tensorflow] *",
   "language": "python",
   "name": "conda-env-.conda-tensorflow-py"
  },
  "language_info": {
   "codemirror_mode": {
    "name": "ipython",
    "version": 3
   },
   "file_extension": ".py",
   "mimetype": "text/x-python",
   "name": "python",
   "nbconvert_exporter": "python",
   "pygments_lexer": "ipython3",
   "version": "3.6.8"
  }
 },
 "nbformat": 4,
 "nbformat_minor": 2
}
