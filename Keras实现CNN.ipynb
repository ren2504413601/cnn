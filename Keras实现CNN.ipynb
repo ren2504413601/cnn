{
 "cells": [
  {
   "cell_type": "code",
   "execution_count": null,
   "metadata": {},
   "outputs": [],
   "source": [
    "import pandas as pd\n",
    "import numpy as np\n",
    "import matplotlib.pyplot as plt\n",
    "import matplotlib.image as pimg\n",
    "import seaborn as sb         # 一个构建在matplotlib上的绘画模块，支持numpy,pandas等数据结构\n",
    "%matplotlib inline\n",
    "\n",
    "from sklearn.model_selection import train_test_split\n",
    "from sklearn.metrics import confusion_matrix     # 混淆矩阵\n",
    "\n",
    "import itertools\n",
    "#  keras\n",
    "from keras.utils import to_categorical         #数字标签转化成one-hot编码\n",
    "from keras.models import Sequential\n",
    "from keras.layers import Dense,Dropout,Flatten,Conv2D,MaxPool2D\n",
    "from keras.optimizers import RMSprop\n",
    "from keras.preprocessing.image import ImageDataGenerator\n",
    "from keras.callbacks import ReduceLROnPlateau"
   ]
  },
  {
   "cell_type": "code",
   "execution_count": 2,
   "metadata": {},
   "outputs": [
    {
     "data": {
      "text/plain": [
       "1    4684\n",
       "7    4401\n",
       "3    4351\n",
       "9    4188\n",
       "2    4177\n",
       "6    4137\n",
       "0    4132\n",
       "4    4072\n",
       "8    4063\n",
       "5    3795\n",
       "Name: label, dtype: int64"
      ]
     },
     "execution_count": 2,
     "metadata": {},
     "output_type": "execute_result"
    },
    {
     "data": {
      "image/png": "[encoded data removed]",
      "text/plain": [
       "<Figure size 432x288 with 1 Axes>"
      ]
     },
     "metadata": {},
     "output_type": "display_data"
    }
   ],
   "source": [
    "# 设置绘画风格\n",
    "sb.set(style='white', context='notebook', palette='deep')\n",
    "# 加载数据\n",
    "train_data = pd.read_csv('./CNN for MINST dataset/train.csv')\n",
    "test_data = pd.read_csv('./CNN for MINST dataset/test.csv')\n",
    "#train_x = train_data.drop(labels=['label'],axis=1)  # 去掉标签列\n",
    "train_x = train_data.iloc[:,1:]\n",
    "train_y = train_data.iloc[:,0]\n",
    "del  train_data   # 释放一下内存\n",
    "# 观察一下训练数据的分布情况\n",
    "g = sb.countplot(train_y)\n",
    "train_y.value_counts()"
   ]
  },
  {
   "cell_type": "code",
   "execution_count": 3,
   "metadata": {},
   "outputs": [
    {
     "data": {
      "text/html": [
       "<div>\n",
       "<style scoped>\n",
       "    .dataframe tbody tr th:only-of-type {\n",
       "        vertical-align: middle;\n",
       "    }\n",
       "\n",
       "    .dataframe tbody tr th {\n",
       "        vertical-align: top;\n",
       "    }\n",
       "\n",
       "    .dataframe thead th {\n",
       "        text-align: right;\n",
       "    }\n",
       "</style>\n",
       "<table border=\"1\" class=\"dataframe\">\n",
       "  <thead>\n",
       "    <tr style=\"text-align: right;\">\n",
       "      <th></th>\n",
       "      <th>pixel0</th>\n",
       "      <th>pixel1</th>\n",
       "      <th>pixel2</th>\n",
       "      <th>pixel3</th>\n",
       "      <th>pixel4</th>\n",
       "      <th>pixel5</th>\n",
       "      <th>pixel6</th>\n",
       "      <th>pixel7</th>\n",
       "      <th>pixel8</th>\n",
       "      <th>pixel9</th>\n",
       "      <th>...</th>\n",
       "      <th>pixel774</th>\n",
       "      <th>pixel775</th>\n",
       "      <th>pixel776</th>\n",
       "      <th>pixel777</th>\n",
       "      <th>pixel778</th>\n",
       "      <th>pixel779</th>\n",
       "      <th>pixel780</th>\n",
       "      <th>pixel781</th>\n",
       "      <th>pixel782</th>\n",
       "      <th>pixel783</th>\n",
       "    </tr>\n",
       "  </thead>\n",
       "  <tbody>\n",
       "    <tr>\n",
       "      <th>count</th>\n",
       "      <td>42000</td>\n",
       "      <td>42000</td>\n",
       "      <td>42000</td>\n",
       "      <td>42000</td>\n",
       "      <td>42000</td>\n",
       "      <td>42000</td>\n",
       "      <td>42000</td>\n",
       "      <td>42000</td>\n",
       "      <td>42000</td>\n",
       "      <td>42000</td>\n",
       "      <td>...</td>\n",
       "      <td>42000</td>\n",
       "      <td>42000</td>\n",
       "      <td>42000</td>\n",
       "      <td>42000</td>\n",
       "      <td>42000</td>\n",
       "      <td>42000</td>\n",
       "      <td>42000</td>\n",
       "      <td>42000</td>\n",
       "      <td>42000</td>\n",
       "      <td>42000</td>\n",
       "    </tr>\n",
       "    <tr>\n",
       "      <th>unique</th>\n",
       "      <td>1</td>\n",
       "      <td>1</td>\n",
       "      <td>1</td>\n",
       "      <td>1</td>\n",
       "      <td>1</td>\n",
       "      <td>1</td>\n",
       "      <td>1</td>\n",
       "      <td>1</td>\n",
       "      <td>1</td>\n",
       "      <td>1</td>\n",
       "      <td>...</td>\n",
       "      <td>1</td>\n",
       "      <td>1</td>\n",
       "      <td>1</td>\n",
       "      <td>1</td>\n",
       "      <td>1</td>\n",
       "      <td>1</td>\n",
       "      <td>1</td>\n",
       "      <td>1</td>\n",
       "      <td>1</td>\n",
       "      <td>1</td>\n",
       "    </tr>\n",
       "    <tr>\n",
       "      <th>top</th>\n",
       "      <td>False</td>\n",
       "      <td>False</td>\n",
       "      <td>False</td>\n",
       "      <td>False</td>\n",
       "      <td>False</td>\n",
       "      <td>False</td>\n",
       "      <td>False</td>\n",
       "      <td>False</td>\n",
       "      <td>False</td>\n",
       "      <td>False</td>\n",
       "      <td>...</td>\n",
       "      <td>False</td>\n",
       "      <td>False</td>\n",
       "      <td>False</td>\n",
       "      <td>False</td>\n",
       "      <td>False</td>\n",
       "      <td>False</td>\n",
       "      <td>False</td>\n",
       "      <td>False</td>\n",
       "      <td>False</td>\n",
       "      <td>False</td>\n",
       "    </tr>\n",
       "    <tr>\n",
       "      <th>freq</th>\n",
       "      <td>42000</td>\n",
       "      <td>42000</td>\n",
       "      <td>42000</td>\n",
       "      <td>42000</td>\n",
       "      <td>42000</td>\n",
       "      <td>42000</td>\n",
       "      <td>42000</td>\n",
       "      <td>42000</td>\n",
       "      <td>42000</td>\n",
       "      <td>42000</td>\n",
       "      <td>...</td>\n",
       "      <td>42000</td>\n",
       "      <td>42000</td>\n",
       "      <td>42000</td>\n",
       "      <td>42000</td>\n",
       "      <td>42000</td>\n",
       "      <td>42000</td>\n",
       "      <td>42000</td>\n",
       "      <td>42000</td>\n",
       "      <td>42000</td>\n",
       "      <td>42000</td>\n",
       "    </tr>\n",
       "  </tbody>\n",
       "</table>\n",
       "<p>4 rows × 784 columns</p>\n",
       "</div>"
      ],
      "text/plain": [
       "       pixel0 pixel1 pixel2 pixel3 pixel4 pixel5 pixel6 pixel7 pixel8 pixel9  \\\n",
       "count   42000  42000  42000  42000  42000  42000  42000  42000  42000  42000   \n",
       "unique      1      1      1      1      1      1      1      1      1      1   \n",
       "top     False  False  False  False  False  False  False  False  False  False   \n",
       "freq    42000  42000  42000  42000  42000  42000  42000  42000  42000  42000   \n",
       "\n",
       "        ... pixel774 pixel775 pixel776 pixel777 pixel778 pixel779 pixel780  \\\n",
       "count   ...    42000    42000    42000    42000    42000    42000    42000   \n",
       "unique  ...        1        1        1        1        1        1        1   \n",
       "top     ...    False    False    False    False    False    False    False   \n",
       "freq    ...    42000    42000    42000    42000    42000    42000    42000   \n",
       "\n",
       "       pixel781 pixel782 pixel783  \n",
       "count     42000    42000    42000  \n",
       "unique        1        1        1  \n",
       "top       False    False    False  \n",
       "freq      42000    42000    42000  \n",
       "\n",
       "[4 rows x 784 columns]"
      ]
     },
     "execution_count": 3,
     "metadata": {},
     "output_type": "execute_result"
    }
   ],
   "source": [
    "train_x.isnull().describe() # 检查是否存在缺失值值"
   ]
  },
  {
   "cell_type": "code",
   "execution_count": 4,
   "metadata": {},
   "outputs": [
    {
     "data": {
      "text/plain": [
       "count       784\n",
       "unique        1\n",
       "top       False\n",
       "freq        784\n",
       "dtype: object"
      ]
     },
     "execution_count": 4,
     "metadata": {},
     "output_type": "execute_result"
    }
   ],
   "source": [
    "train_x.isnull().any().describe()"
   ]
  },
  {
   "cell_type": "code",
   "execution_count": 5,
   "metadata": {},
   "outputs": [],
   "source": [
    "# 归一化\n",
    "train_x =  train_x/255.0\n",
    "test_x = test_data/255.0\n",
    "del test_data"
   ]
  },
  {
   "cell_type": "markdown",
   "metadata": {},
   "source": [
    "### 转换数据的shape"
   ]
  },
  {
   "cell_type": "code",
   "execution_count": 6,
   "metadata": {},
   "outputs": [
    {
     "name": "stderr",
     "output_type": "stream",
     "text": [
      "C:\\Users\\admin\\.conda\\envs\\tensorflow\\lib\\site-packages\\ipykernel_launcher.py:4: FutureWarning: Method .as_matrix will be removed in a future version. Use .values instead.\n",
      "  after removing the cwd from sys.path.\n",
      "C:\\Users\\admin\\.conda\\envs\\tensorflow\\lib\\site-packages\\ipykernel_launcher.py:5: FutureWarning: Method .as_matrix will be removed in a future version. Use .values instead.\n",
      "  \"\"\"\n"
     ]
    }
   ],
   "source": [
    "# reshape trian_x, test_x\n",
    "#train_x = train_x.values.reshape(-1, 28, 28, 1)\n",
    "#test_x = test_x.values.reshape(-1, 28, 28, 1)\n",
    "train_x = train_x.as_matrix().reshape(-1, 28, 28, 1)\n",
    "test_x = test_x.as_matrix().reshape(-1, 28, 28, 1)\n",
    "# 吧标签列转化为one-hot 编码格式\n",
    "train_y = to_categorical(train_y, num_classes = 10)"
   ]
  },
  {
   "cell_type": "markdown",
   "metadata": {},
   "source": [
    "### 从数据中分离出验证数据"
   ]
  },
  {
   "cell_type": "code",
   "execution_count": 7,
   "metadata": {},
   "outputs": [],
   "source": [
    "#从训练数据中分出十分之一的数据作为验证数据\n",
    "random_seed = 3\n",
    "train_x , val_x , train_y, val_y = train_test_split(train_x, train_y, test_size=0.1, random_state=random_seed)"
   ]
  },
  {
   "cell_type": "code",
   "execution_count": 8,
   "metadata": {},
   "outputs": [
    {
     "data": {
      "text/plain": [
       "<matplotlib.image.AxesImage at 0x22c4b657390>"
      ]
     },
     "execution_count": 8,
     "metadata": {},
     "output_type": "execute_result"
    },
    {
     "data": {
      "image/png": "[encoded data removed]",
      "text/plain": [
       "<Figure size 432x288 with 1 Axes>"
      ]
     },
     "metadata": {},
     "output_type": "display_data"
    }
   ],
   "source": [
    "plt.imshow(train_x[0][:,:,0])"
   ]
  },
  {
   "cell_type": "markdown",
   "metadata": {},
   "source": [
    "### 使用Keras搭建CNN"
   ]
  },
  {
   "cell_type": "code",
   "execution_count": 9,
   "metadata": {},
   "outputs": [],
   "source": [
    "model = Sequential()\n",
    "# 第一个卷积层，32个卷积核，大小５x5，卷积模式SAME,激活函数relu,输入张量的大小\n",
    "model.add(Conv2D(filters= 32, kernel_size=(5,5), padding='Same', activation='relu',input_shape=(28,28,1)))\n",
    "model.add(Conv2D(filters= 32, kernel_size=(5,5), padding='Same', activation='relu'))\n",
    "# 池化层,池化核大小２x2\n",
    "model.add(MaxPool2D(pool_size=(2,2)))\n",
    "# 随机丢弃四分之一的网络连接，防止过拟合\n",
    "model.add(Dropout(0.25))  \n",
    "model.add(Conv2D(filters= 64, kernel_size=(3,3), padding='Same', activation='relu'))\n",
    "model.add(Conv2D(filters= 64, kernel_size=(3,3), padding='Same', activation='relu'))\n",
    "model.add(MaxPool2D(pool_size=(2,2), strides=(2,2)))\n",
    "model.add(Dropout(0.25))\n",
    "# 全连接层,展开操作，\n",
    "model.add(Flatten())\n",
    "# 添加隐藏层神经元的数量和激活函数\n",
    "model.add(Dense(256, activation='relu'))    \n",
    "model.add(Dropout(0.25))\n",
    "# 输出层\n",
    "model.add(Dense(10, activation='softmax')) "
   ]
  },
  {
   "cell_type": "code",
   "execution_count": 10,
   "metadata": {},
   "outputs": [],
   "source": [
    "# 设置优化器\n",
    "# lr :学习效率，　decay :lr的衰减值\n",
    "optimizer = RMSprop(lr = 0.001, decay=0.0)\n",
    "# 编译模型\n",
    "# loss:损失函数，metrics：对应性能评估函数\n",
    "model.compile(optimizer=optimizer, loss = 'categorical_crossentropy',metrics=['accuracy'])"
   ]
  },
  {
   "cell_type": "markdown",
   "metadata": {},
   "source": [
    "### 创建一个callback类的实例\n",
    "keras的callback类提供了可以跟踪目标值，和动态调整学习效率\n",
    "\n",
    "moitor : 要监测的量，这里是验证准确率\n",
    "\n",
    "matience: 当经过３轮的迭代，监测的目标量，仍没有变化，就会调整学习效率\n",
    "\n",
    "verbose : 信息展示模式，去０或１\n",
    "\n",
    "factor :　每次减少学习率的因子，学习率将以lr = lr*factor的形式被减少\n",
    "\n",
    "mode：‘auto’，‘min’，‘max’之一，在min模式下，如果检测值触发学习率减少。在max模式下，当检测值不再上升则触发学习率减少。\n",
    "\n",
    "epsilon：阈值，用来确定是否进入检测值的“平原区”\n",
    "\n",
    "cooldown：学习率减少后，会经过cooldown个epoch才重新进行正常操作\n",
    "\n",
    "min_lr：学习率的下限"
   ]
  },
  {
   "cell_type": "code",
   "execution_count": 11,
   "metadata": {},
   "outputs": [],
   "source": [
    "learning_rate_reduction = ReduceLROnPlateau(monitor = 'val_acc', patience = 3,\n",
    "                                            verbose = 1, factor=0.5, min_lr = 0.00001)\n",
    "epochs = 40\n",
    "batch_size = 100"
   ]
  },
  {
   "cell_type": "markdown",
   "metadata": {},
   "source": [
    "### 数据增强处理\n",
    "数据增强处理，提升模型的泛化能力，也可以有效的避免模型的过拟合\n",
    "\n",
    "rotation_range : 旋转的角度\n",
    "\n",
    "zoom_range : 随机缩放图像\n",
    "\n",
    "width_shift_range : 水平移动占图像宽度的比例\n",
    "\n",
    "height_shift_range \n",
    "\n",
    "horizontal_filp : 水平反转\n",
    "\n",
    "vertical_filp : 纵轴方向上反转"
   ]
  },
  {
   "cell_type": "code",
   "execution_count": 12,
   "metadata": {},
   "outputs": [],
   "source": [
    "data_augment = ImageDataGenerator(rotation_range= 10,zoom_range= 0.1,\n",
    "                                  width_shift_range = 0.1,height_shift_range = 0.1,\n",
    "                                  horizontal_flip = False, vertical_flip = False)"
   ]
  },
  {
   "cell_type": "markdown",
   "metadata": {},
   "source": [
    "#### 训练模型"
   ]
  },
  {
   "cell_type": "code",
   "execution_count": null,
   "metadata": {},
   "outputs": [
    {
     "name": "stdout",
     "output_type": "stream",
     "text": [
      "Epoch 1/40\n",
      " - 499s - loss: 0.4033 - acc: 0.8689 - val_loss: 0.0884 - val_acc: 0.9745\n",
      "Epoch 2/40\n",
      " - 473s - loss: 0.1119 - acc: 0.9656 - val_loss: 0.0526 - val_acc: 0.9840\n",
      "Epoch 3/40\n",
      " - 492s - loss: 0.0804 - acc: 0.9757 - val_loss: 0.0531 - val_acc: 0.9852\n",
      "Epoch 4/40\n",
      " - 496s - loss: 0.0651 - acc: 0.9801 - val_loss: 0.0298 - val_acc: 0.9907\n",
      "Epoch 5/40\n",
      " - 483s - loss: 0.0569 - acc: 0.9830 - val_loss: 0.0373 - val_acc: 0.9900\n",
      "Epoch 6/40\n",
      " - 488s - loss: 0.0523 - acc: 0.9843 - val_loss: 0.0401 - val_acc: 0.9898\n",
      "Epoch 7/40\n",
      " - 477s - loss: 0.0481 - acc: 0.9856 - val_loss: 0.0310 - val_acc: 0.9907\n",
      "\n",
      "Epoch 00007: ReduceLROnPlateau reducing learning rate to 0.0005000000237487257.\n",
      "Epoch 8/40\n",
      " - 466s - loss: 0.0373 - acc: 0.9886 - val_loss: 0.0286 - val_acc: 0.9926\n",
      "Epoch 9/40\n"
     ]
    }
   ],
   "source": [
    "history = model.fit_generator(data_augment.flow(train_x, train_y, batch_size=batch_size),\n",
    "                             epochs= epochs, validation_data = (val_x,val_y),\n",
    "                             verbose =2, steps_per_epoch=train_x.shape[0]//batch_size,\n",
    "                             callbacks=[learning_rate_reduction])"
   ]
  },
  {
   "cell_type": "markdown",
   "metadata": {},
   "source": [
    "###### 在训练过程当中，有几次触发学习效率衰减的条件，每当val_acc连续３轮没有增长，就会把学习效率调整为当前的一半，调整之后，val_acc都有明显的增长，但是在最后几轮,模型可能已经收敛．"
   ]
  },
  {
   "cell_type": "code",
   "execution_count": null,
   "metadata": {},
   "outputs": [],
   "source": [
    "# learning curves\n",
    "fig,ax = plt.subplots(2,1,figsize=(10,10))\n",
    "ax[0].plot(history.history['loss'], color='r', label='Training Loss')\n",
    "ax[0].plot(history.history['val_loss'], color='g', label='Validation Loss')\n",
    "ax[0].legend(loc='best',shadow=True)\n",
    "ax[0].grid(True)\n",
    "\n",
    "\n",
    "ax[1].plot(history.history['acc'], color='r', label='Training Accuracy')\n",
    "ax[1].plot(history.history['val_acc'], color='g', label='Validation Accuracy')\n",
    "ax[1].legend(loc='best',shadow=True)\n",
    "ax[1].grid(True)"
   ]
  },
  {
   "cell_type": "code",
   "execution_count": null,
   "metadata": {},
   "outputs": [],
   "source": [
    "# 混淆矩阵\n",
    "def plot_sonfusion_matrix(cm, classes, normalize=False, title='Confusion matrix',cmap=plt.cm.Blues):\n",
    "    plt.imshow(cm, interpolation='nearest', cmap=cmap)\n",
    "    plt.title(title)\n",
    "    plt.colorbar()\n",
    "    tick_marks = np.arange(len(classes))\n",
    "    plt.xticks(tick_marks, classes, rotation=45)\n",
    "    plt.yticks(tick_marks, classes)\n",
    "    if normalize:\n",
    "        cm = cm.astype('float')/cm.sum(axis=1)[:,np.newaxis]\n",
    "    thresh = cm.max()/2.0\n",
    "    for i,j in itertools.product(range(cm.shape[0]), range(cm.shape[1])):\n",
    "        plt.text(j,i,cm[i,j], horizontalalignment='center',color='white' if cm[i,j] &gt; thresh else 'black')\n",
    "    plt.tight_layout()\n",
    "    plt.ylabel('True label')\n",
    "    plt.xlabel('Predict label')"
   ]
  },
  {
   "cell_type": "markdown",
   "metadata": {},
   "source": [
    "##### 验证数据的混淆矩阵"
   ]
  },
  {
   "cell_type": "code",
   "execution_count": null,
   "metadata": {},
   "outputs": [],
   "source": [
    "pred_y = model.predict(val_x)\n",
    "pred_label = np.argmax(pred_y, axis=1)\n",
    "true_label = np.argmax(val_y, axis=1)\n",
    "\n",
    "confusion_mat = confusion_matrix(true_label, pred_label)\n",
    "\n",
    "plot_sonfusion_matrix(confusion_mat, classes = range(10))"
   ]
  }
 ],
 "metadata": {
  "kernelspec": {
   "display_name": "Python [conda env:.conda-tensorflow] *",
   "language": "python",
   "name": "conda-env-.conda-tensorflow-py"
  },
  "language_info": {
   "codemirror_mode": {
    "name": "ipython",
    "version": 3
   },
   "file_extension": ".py",
   "mimetype": "text/x-python",
   "name": "python",
   "nbconvert_exporter": "python",
   "pygments_lexer": "ipython3",
   "version": "3.6.8"
  }
 },
 "nbformat": 4,
 "nbformat_minor": 2
}
