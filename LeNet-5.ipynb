{
 "cells": [
  {
   "cell_type": "code",
   "execution_count": 1,
   "metadata": {},
   "outputs": [
    {
     "name": "stderr",
     "output_type": "stream",
     "text": [
      "Using TensorFlow backend.\n"
     ]
    }
   ],
   "source": [
    "import numpy as np\n",
    "import pandas as pd\n",
    "from keras.utils import np_utils\n",
    "from keras import Sequential\n",
    "from keras.layers import Dense, Dropout, Flatten, Conv2D, MaxPool2D\n",
    "from keras.utils.np_utils import to_categorical # convert to one-hot-encoding\n",
    "from sklearn.model_selection import train_test_split"
   ]
  },
  {
   "cell_type": "markdown",
   "metadata": {},
   "source": [
    "### 本地csv中导入mnist数据 "
   ]
  },
  {
   "cell_type": "code",
   "execution_count": 3,
   "metadata": {},
   "outputs": [],
   "source": [
    "train = pd.read_csv(\"./CNN for MINST dataset/train.csv\")\n",
    "test = pd.read_csv(\"./CNN for MINST dataset/test.csv\")\n",
    "target=train['label']\n",
    "features=train.drop(labels='label',axis=1)#pd.drop():Return new object with labels in requested axis removed.\n",
    "#print(target.shape,features.shape)\n",
    "## normalize\n",
    "features=features.astype('float32')\n",
    "test=test.astype('float32')\n",
    "features/=255.0\n",
    "test/=255.0\n",
    "## Reshape image in 3 dimensions (height = 28, width = 28 , channel = 1)\n",
    "height,width ,channel= 28,28,1\n",
    "features=features.values.reshape(-1,height,width,channel)\n",
    "test=test.values.reshape(-1,height,width,channel)\n",
    "\n",
    "## Encode labels to one hot vectors\n",
    "target=to_categorical(target,num_classes=10)\n",
    "\n",
    "## Split the train and the validation set for the fitting\n",
    "X_train, X_val, Y_train, Y_val = train_test_split(features, target, test_size = 0.1)"
   ]
  },
  {
   "cell_type": "markdown",
   "metadata": {},
   "source": [
    "### keras 库中导入mnist数据"
   ]
  },
  {
   "cell_type": "code",
   "execution_count": 3,
   "metadata": {},
   "outputs": [
    {
     "name": "stdout",
     "output_type": "stream",
     "text": [
      "(60000, 28, 28, 1) (10000, 28, 28, 1) (60000, 10) <class 'numpy.ndarray'>\n"
     ]
    }
   ],
   "source": [
    "from keras.datasets import mnist\n",
    "(trainx,trainy),(testx,testy)=mnist.load_data()\n",
    "### convert mnist data to 28x28x1\n",
    "X_train=trainx.reshape([-1,28,28,1])\n",
    "x_test=testx.reshape([testx.shape[0],28,28,1])\n",
    "### normlized\n",
    "X_train=X_train.astype('float32')\n",
    "x_test=x_test.astype('float32')\n",
    "### 将label 值转换为需要的格式(one-hot编码)\n",
    "Y_train=to_categorical(trainy,10)\n",
    "y_test=to_categorical(testy,10)\n",
    "print(X_train.shape,x_test.shape,Y_train.shape,type(trainx))\n",
    "X_train, X_val, Y_train, Y_val = train_test_split(X_train, Y_train, test_size = 0.1)"
   ]
  },
  {
   "cell_type": "markdown",
   "metadata": {},
   "source": [
    "### 构建 LeNet-5 model"
   ]
  },
  {
   "cell_type": "code",
   "execution_count": 4,
   "metadata": {},
   "outputs": [],
   "source": [
    "model = Sequential()\n",
    "# 卷积层\n",
    "model.add(Conv2D(filters = 32, kernel_size = (5,5),padding = 'Same', \n",
    "                     activation ='relu', input_shape = (28,28,1)))\n",
    "model.add(MaxPool2D(pool_size=(2,2)))\n",
    "model.add(Conv2D(filters = 64, kernel_size = (5,5),padding = 'Same', \n",
    "                     activation ='relu'))\n",
    "model.add(MaxPool2D(pool_size=(2,2)))\n",
    "# 全连接层\n",
    "model.add(Flatten())#Flatten():将输入展平。不影响批量大小\n",
    "model.add(Dense(512, activation = \"relu\", use_bias= True))\n",
    "model.add(Dropout(0.5))\n",
    "model.add(Dense(10, activation = \"softmax\", use_bias= True))"
   ]
  },
  {
   "cell_type": "markdown",
   "metadata": {},
   "source": [
    "### fit results"
   ]
  },
  {
   "cell_type": "code",
   "execution_count": null,
   "metadata": {},
   "outputs": [],
   "source": [
    "model.compile(optimizer = 'adam' , loss = \"categorical_crossentropy\", metrics=[\"accuracy\"])\n",
    "## 使用 validation_split 分割数据\n",
    "#results = model.fit(X_train, Y_train, validation_split=0.1, batch_size=16, epochs=50)\n",
    "## 使用train_test_split()分割的validation_data\n",
    "fit_results = model.fit(X_train, Y_train, validation_data = (X_val,Y_val), batch_size=16, epochs=50)"
   ]
  },
  {
   "cell_type": "markdown",
   "metadata": {},
   "source": [
    "### predict results 为输入样本test生成输出预测"
   ]
  },
  {
   "cell_type": "code",
   "execution_count": null,
   "metadata": {},
   "outputs": [],
   "source": [
    "pre_results = model.predict(test)\n",
    "# select the indix with the maximum probability\n",
    "pre_results = np.argmax(results,axis = 1)\n",
    "pre_results = pd.Series(pre_results,name=\"Label\")\n",
    "# 预测结果save到本地csv文件\n",
    "submission = pd.concat([pd.Series(range(1,28001),name = \"ImageId\"),pre_results],axis = 1)\n",
    "submission.to_csv(\"./CNN for MINST dataset/LeNet_test_prediction.csv\",index=False)"
   ]
  },
  {
   "cell_type": "code",
   "execution_count": null,
   "metadata": {},
   "outputs": [],
   "source": [
    "#Plot Loss and accuracy\n",
    "import matplotlib.pyplot as plt\n",
    "plt.figure(figsize = (15,5))\n",
    "plt.subplot(1,2,1)\n",
    "plt.plot(fit_results.history['acc'])\n",
    "plt.plot(fit_results.history['val_acc'])\n",
    "plt.title('model accuracy')\n",
    "plt.ylabel('accuracy')\n",
    "plt.xlabel('epoch')\n",
    "plt.legend(['train', 'test'], loc='upper left')\n",
    "\n",
    "plt.subplot(1,2,2)\n",
    "plt.plot(fit_results.history['loss'])\n",
    "plt.plot(fit_results.history['val_loss'])\n",
    "plt.title('model loss')\n",
    "plt.ylabel('loss')\n",
    "plt.xlabel('epoch')\n",
    "plt.legend(['train', 'test'], loc='upper left')\n",
    "plt.show()\n",
    "plt.show()"
   ]
  }
 ],
 "metadata": {
  "kernelspec": {
   "display_name": "Python [conda env:.conda-tensorflow]",
   "language": "python",
   "name": "conda-env-.conda-tensorflow-py"
  },
  "language_info": {
   "codemirror_mode": {
    "name": "ipython",
    "version": 3
   },
   "file_extension": ".py",
   "mimetype": "text/x-python",
   "name": "python",
   "nbconvert_exporter": "python",
   "pygments_lexer": "ipython3",
   "version": "3.6.8"
  }
 },
 "nbformat": 4,
 "nbformat_minor": 2
}
